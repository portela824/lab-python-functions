{
 "cells": [
  {
   "cell_type": "markdown",
   "id": "25d7736c-ba17-4aff-b6bb-66eba20fbf4e",
   "metadata": {},
   "source": [
    "# Lab | Functions"
   ]
  },
  {
   "cell_type": "markdown",
   "id": "0c581062-8967-4d93-b06e-62833222f930",
   "metadata": {
    "tags": []
   },
   "source": [
    "## Exercise: Managing Customer Orders with Functions\n",
    "\n",
    "In the previous exercise, you improved the code for managing customer orders by using loops and flow control. Now, let's take it a step further and refactor the code by introducing functions.\n",
    "\n",
    "Follow the steps below to complete the exercise:\n",
    "\n",
    "1. Define a function named `initialize_inventory` that takes `products` as a parameter. Inside the function, implement the code for initializing the inventory dictionary using a loop and user input.\n",
    "\n",
    "2. Define a function named `get_customer_orders` that takes no parameters. Inside the function, implement the code for prompting the user to enter the product names using a loop. The function should return the `customer_orders` set.\n",
    "\n",
    "3. Define a function named `update_inventory` that takes `customer_orders` and `inventory` as parameters. Inside the function, implement the code for updating the inventory dictionary based on the customer orders.\n",
    "\n",
    "4. Define a function named `calculate_order_statistics` that takes `customer_orders` and `products` as parameters. Inside the function, implement the code for calculating the order statistics (total products ordered, and percentage of unique products ordered). The function should return these values.\n",
    "\n",
    "5. Define a function named `print_order_statistics` that takes `order_statistics` as a parameter. Inside the function, implement the code for printing the order statistics.\n",
    "\n",
    "6. Define a function named `print_updated_inventory` that takes `inventory` as a parameter. Inside the function, implement the code for printing the updated inventory.\n",
    "\n",
    "7. Call the functions in the appropriate sequence to execute the program and manage customer orders.\n",
    "\n",
    "Hints for functions:\n",
    "\n",
    "- Consider the input parameters required for each function and their return values.\n",
    "- Utilize function parameters and return values to transfer data between functions.\n",
    "- Test your functions individually to ensure they work correctly.\n",
    "\n",
    "\n"
   ]
  },
  {
   "cell_type": "code",
   "execution_count": null,
   "id": "e0058ad0",
   "metadata": {},
   "outputs": [],
   "source": [
    "def update_inventory(customer_orders, inventory):\n",
    "    inventory_local = inventory.copy()\n",
    "    for product in customer_orders:\n",
    "        inventory[product] -= 1\n",
    "        \n",
    "def calculate_order_statistics(customer_orders, products):\n",
    "    total = len(customer_orders)\n",
    "    percentage_of_orders = (total/quantity_of_orders)*100\n",
    "    return total,percentage_of_orders\n",
    "\n",
    "def print_order_statistics(statistics_tuple):\n",
    "    print(f'''Order Statistics:\n",
    "Total Products Ordered: {statistics_tuple[0]}\n",
    "Percentage of Products Ordered: {statistics_tuple[1]}% ''')\n",
    "    \n",
    "def print_updated_inventory(inventory):\n",
    "    print(f\"The inventory of the purchase is: {inventory}\")"
   ]
  },
  {
   "cell_type": "code",
   "execution_count": null,
   "id": "3b430a50",
   "metadata": {},
   "outputs": [],
   "source": [
    "inventory"
   ]
  },
  {
   "cell_type": "code",
   "execution_count": 19,
   "id": "e748ff48",
   "metadata": {},
   "outputs": [],
   "source": [
    "products = [\"t-shirt\", \"mug\", \"hat\", \"book\", \"keychain\"]\n",
    "\n",
    "def initialize_inventory(products):\n",
    "    \"\"\"initialize_inventory that takes products as a parameter. Inside the function, \n",
    "    implement the code for initializing the inventory \n",
    "    dictionary using a loop and user input.\"\"\"\n",
    "    \n",
    "    inventory = {}\n",
    "    for p in products:\n",
    "        quantity = int(input(f'Enter the amount desire for each {p}: '))\n",
    "        inventory[p] = quantity\n",
    "    \n",
    "    return inventory\n",
    "\n",
    "\n",
    "def get_customer_orders(products): # products inside the def is not part of the excercise\n",
    "    \"\"\"get_customer_orders that takes no parameters. Inside the function, \n",
    "    implement the code for prompting the user to enter the product names\n",
    "    using a loop. The function should return the customer_orders set.\"\"\"\n",
    "    \n",
    "    customer_orders = set()\n",
    "    while True:\n",
    "        product = input(f\"Enter the product desire: \")\n",
    "        customer_orders.add(product)\n",
    "        \n",
    "        add = input(\"Do you want to add another product? Type 'yes' or 'no'?\").strip()\n",
    "        if add != \"yes\":\n",
    "            break\n",
    "    return customer_orders\n",
    "\n",
    "def update_inventory(customer_orders, inventory):\n",
    "    for product in customer_orders:\n",
    "        if product in inventory:\n",
    "            inventory[product] -= 1\n",
    "    return inventory\n",
    "\n"
   ]
  },
  {
   "cell_type": "code",
   "execution_count": 4,
   "id": "2c056844",
   "metadata": {},
   "outputs": [
    {
     "name": "stdout",
     "output_type": "stream",
     "text": [
      "Enter the amount desire for each t-shirt: 45\n",
      "Enter the amount desire for each mug: 6\n",
      "Enter the amount desire for each hat: 7\n",
      "Enter the amount desire for each book: 8\n",
      "Enter the amount desire for each keychain: 1\n"
     ]
    },
    {
     "data": {
      "text/plain": [
       "{'t-shirt': 45, 'mug': 6, 'hat': 7, 'book': 8, 'keychain': 1}"
      ]
     },
     "execution_count": 4,
     "metadata": {},
     "output_type": "execute_result"
    }
   ],
   "source": [
    "initialize_inventory(products)"
   ]
  },
  {
   "cell_type": "code",
   "execution_count": 22,
   "id": "3421969b",
   "metadata": {},
   "outputs": [
    {
     "name": "stdout",
     "output_type": "stream",
     "text": [
      "Enter the amount desire for each t-shirt: 45\n",
      "Enter the amount desire for each mug: 6\n",
      "Enter the amount desire for each hat: 7\n",
      "Enter the amount desire for each book: 8\n",
      "Enter the amount desire for each keychain: 1\n"
     ]
    }
   ],
   "source": [
    "inventory = initialize_inventory(products)"
   ]
  },
  {
   "cell_type": "code",
   "execution_count": 23,
   "id": "7200ca83",
   "metadata": {},
   "outputs": [
    {
     "data": {
      "text/plain": [
       "45"
      ]
     },
     "execution_count": 23,
     "metadata": {},
     "output_type": "execute_result"
    }
   ],
   "source": [
    "inventory[\"t-shirt\"]"
   ]
  },
  {
   "cell_type": "code",
   "execution_count": 7,
   "id": "080f8a69",
   "metadata": {},
   "outputs": [
    {
     "name": "stdout",
     "output_type": "stream",
     "text": [
      "Enter the product desire: mug\n",
      "Do you want to add another product? Type 'yes' or 'no'?yes\n",
      "Enter the product desire: hat\n",
      "Do you want to add another product? Type 'yes' or 'no'?yes\n",
      "Enter the product desire: book\n",
      "Do you want to add another product? Type 'yes' or 'no'?no\n"
     ]
    },
    {
     "data": {
      "text/plain": [
       "{'book', 'hat', 'mug'}"
      ]
     },
     "execution_count": 7,
     "metadata": {},
     "output_type": "execute_result"
    }
   ],
   "source": [
    "get_customer_orders()"
   ]
  },
  {
   "cell_type": "code",
   "execution_count": 21,
   "id": "74be4196",
   "metadata": {},
   "outputs": [],
   "source": [
    "def calculate_order_statistics(customer_orders, products):\n",
    "    total = len(customer_orders)\n",
    "    \n",
    "    for product in customer_orders:\n",
    "        quantity_of_products = sum(inventory.values())\n",
    "        if quantity_of_products > 0:\n",
    "            percentage_of_orders = (total/quantity_of_orders)*100\n",
    "        else:\n",
    "            percentage_of_orders = 0\n",
    "    return total, percentage_of_orders"
   ]
  },
  {
   "cell_type": "code",
   "execution_count": null,
   "id": "e1a7a94f",
   "metadata": {},
   "outputs": [],
   "source": []
  },
  {
   "cell_type": "code",
   "execution_count": null,
   "id": "e5b5db36",
   "metadata": {},
   "outputs": [],
   "source": []
  },
  {
   "cell_type": "code",
   "execution_count": null,
   "id": "236a1ae3",
   "metadata": {},
   "outputs": [],
   "source": [
    "products = [\"t-shirt\", \"mug\"]#, \"hat\", \"book\", \"keychain\"]\n",
    "inventory = dict()\n",
    "inventory = {}\n",
    "for product in products:\n",
    "    quantity = input(f'Number of {product} available: ')\n",
    "    while not quantity.isdigit():\n",
    "        quantity = input(f'Number of {product} available, please type a digit: ')\n",
    "    inventory[product] = int(quantity)\n",
    "    #inventory.update({product:int(quantity)}) # alternative way to insert data in the dictionary\n",
    "    print(f'Product {product} has {quantity} in stock')\n",
    "customer_orders = set() # create customer cart\n",
    "moreorders = True\n",
    "while moreorders:\n",
    "    order = input('Enter the name of your product ')# ask for user input\n",
    "    while order not in products: # input validation\n",
    "        order = input(f'Please type a product in {products} ')# ask for user input\n",
    "    customer_orders.add(order)\n",
    "    tmp = input(\"Please type Yes or No. Want to order something else? Yype 'Yes' or 'No':\")\n",
    "    while tmp !='Yes' and tmp != 'No':\n",
    "        tmp = input(\"Please type Yes or No. Want to order something else? Yype 'Yes' or 'No': \")# ask for user input\n",
    "    if tmp.capitalize().strip() == 'Yes':\n",
    "        moreorders = True\n",
    "    else:\n",
    "        moreorders = False\n",
    "print(customer_orders)\n",
    "total_purchase = len(customer_orders)\n",
    "quantity_of_products = sum(inventory.values())\n",
    "order_percentual = (total_purchase/quantity_of_products)*100\n",
    "statistics_tuple = (total_purchase,order_percentual)\n",
    "print(f'''Order Statistics:\n",
    "Total Products Ordered: {statistics_tuple[0]}\n",
    "Percentage of Products Ordered: {statistics_tuple[1]}% ''')\n",
    "for product in customer_orders:\n",
    "    inventory[product]-=1\n",
    "print(inventory)"
   ]
  },
  {
   "cell_type": "code",
   "execution_count": null,
   "id": "79f6d09c",
   "metadata": {},
   "outputs": [],
   "source": []
  }
 ],
 "metadata": {
  "kernelspec": {
   "display_name": "Python 3 (ipykernel)",
   "language": "python",
   "name": "python3"
  },
  "language_info": {
   "codemirror_mode": {
    "name": "ipython",
    "version": 3
   },
   "file_extension": ".py",
   "mimetype": "text/x-python",
   "name": "python",
   "nbconvert_exporter": "python",
   "pygments_lexer": "ipython3",
   "version": "3.9.13"
  }
 },
 "nbformat": 4,
 "nbformat_minor": 5
}
